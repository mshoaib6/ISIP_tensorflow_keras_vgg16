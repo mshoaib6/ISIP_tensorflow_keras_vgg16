{
  "cells": [
    {
      "cell_type": "markdown",
      "metadata": {
        "id": "Kbq2XiaR4nzW"
      },
      "source": [
        "## **Image Recognition (10 points)**"
      ]
    },
    {
      "cell_type": "code",
      "execution_count": 4,
      "metadata": {
        "id": "Njhr6lBIHi6h"
      },
      "outputs": [],
      "source": [
        "from tensorflow import keras"
      ]
    },
    {
      "cell_type": "code",
      "execution_count": 5,
      "metadata": {
        "colab": {
          "base_uri": "https://localhost:8080/"
        },
        "id": "3OER5m4j0I7X",
        "outputId": "0bbf6acd-1d79-4ad1-84bb-88e42d010116"
      },
      "outputs": [
        {
          "name": "stdout",
          "output_type": "stream",
          "text": [
            "Model: \"sequential\"\n",
            "_________________________________________________________________\n",
            "Layer (type)                 Output Shape              Param #   \n",
            "=================================================================\n",
            "conv2d (Conv2D)              (None, 26, 26, 512)       5120      \n",
            "_________________________________________________________________\n",
            "max_pooling2d (MaxPooling2D) (None, 8, 8, 512)         0         \n",
            "_________________________________________________________________\n",
            "dropout (Dropout)            (None, 8, 8, 512)         0         \n",
            "_________________________________________________________________\n",
            "flatten (Flatten)            (None, 32768)             0         \n",
            "_________________________________________________________________\n",
            "dense (Dense)                (None, 64)                2097216   \n",
            "_________________________________________________________________\n",
            "dense_1 (Dense)              (None, 10)                650       \n",
            "=================================================================\n",
            "Total params: 2,102,986\n",
            "Trainable params: 2,102,986\n",
            "Non-trainable params: 0\n",
            "_________________________________________________________________\n"
          ]
        }
      ],
      "source": [
        "model = keras.Sequential([\n",
        "   keras.Input((28, 28, 1)),\n",
        "   keras.layers.Conv2D(512, 3, activation='relu'),\n",
        "   keras.layers.MaxPool2D(pool_size=(3,3)),\n",
        "   keras.layers.Dropout(0.2),\n",
        "   keras.layers.Flatten(),\n",
        "   keras.layers.Dense(64, activation='relu'),\n",
        "   keras.layers.Dense(10, activation='sigmoid')\n",
        "])\n",
        "\n",
        "model.compile(optimizer='adam',\n",
        "              loss=keras.losses.SparseCategoricalCrossentropy(),\n",
        "              metrics=['accuracy'])\n",
        "\n",
        "model.summary()"
      ]
    },
    {
      "cell_type": "code",
      "execution_count": 7,
      "metadata": {
        "colab": {
          "base_uri": "https://localhost:8080/"
        },
        "id": "5i8k7CiQmMoq",
        "outputId": "325bfe7d-0667-4ee7-e88f-be25c8e4d855"
      },
      "outputs": [
        {
          "name": "stdout",
          "output_type": "stream",
          "text": [
            "Drive already mounted at /content/gdrive; to attempt to forcibly remount, call drive.mount(\"/content/gdrive\", force_remount=True).\n"
          ]
        }
      ],
      "source": [
        "from google.colab import drive\n",
        "drive.mount('/content/gdrive')"
      ]
    },
    {
      "cell_type": "code",
      "execution_count": 17,
      "metadata": {
        "colab": {
          "base_uri": "https://localhost:8080/"
        },
        "id": "byscB6ZuneL6",
        "outputId": "b938f6c7-30a7-4660-e3eb-0da0e34d0599"
      },
      "outputs": [
        {
          "name": "stdout",
          "output_type": "stream",
          "text": [
            "[Errno 2] No such file or directory: 'gdrive/MyDrive/Colab Notebooks/Assignment 2'\n",
            "/content/gdrive/MyDrive/Colab Notebooks/Assignment 2\n"
          ]
        }
      ],
      "source": [
        "cd gdrive/MyDrive/Colab\\ Notebooks/\"Assignment 2\""
      ]
    },
    {
      "cell_type": "code",
      "execution_count": 18,
      "metadata": {
        "colab": {
          "base_uri": "https://localhost:8080/"
        },
        "id": "90OTI0pgHw97",
        "outputId": "1b11e5eb-042e-4b89-ebc2-5209a15cc3c0"
      },
      "outputs": [
        {
          "name": "stdout",
          "output_type": "stream",
          "text": [
            "WARNING:tensorflow:8 out of the last 8 calls to <function Model.make_predict_function.<locals>.predict_function at 0x7fe4a383ab00> triggered tf.function retracing. Tracing is expensive and the excessive number of tracings could be due to (1) creating @tf.function repeatedly in a loop, (2) passing tensors with different shapes, (3) passing Python objects instead of tensors. For (1), please define your @tf.function outside of the loop. For (2), @tf.function has experimental_relax_shapes=True option that relaxes argument shapes that can avoid unnecessary retracing. For (3), please refer to https://www.tensorflow.org/guide/function#controlling_retracing and https://www.tensorflow.org/api_docs/python/tf/function for  more details.\n",
            "[[('n03220513', 'dome', 0.23266125),\n",
            "  ('n09428293', 'seashore', 0.21666795),\n",
            "  ('n02894605', 'breakwater', 0.1352094),\n",
            "  ('n04486054', 'triumphal_arch', 0.042043276),\n",
            "  ('n03837869', 'obelisk', 0.03288306)],\n",
            " [('n03877845', 'palace', 0.20883702),\n",
            "  ('n03447447', 'gondola', 0.20368342),\n",
            "  ('n03874293', 'paddlewheel', 0.07497398),\n",
            "  ('n03461385', 'grocery_store', 0.07299211),\n",
            "  ('n03216828', 'dock', 0.043976508)]]\n"
          ]
        }
      ],
      "source": [
        "from tensorflow.keras.preprocessing import image\n",
        "from tensorflow.keras.applications import vgg16\n",
        "import numpy as np\n",
        "from pprint import pprint\n",
        "\n",
        "model = vgg16.VGG16(weights='imagenet')\n",
        "\n",
        "img_paths = ['SanFrancisco.jpg', 'WarsawByTytusBrzozowski.jpg']\n",
        "batch_of_images = []\n",
        "for path in img_paths:\n",
        "    img = image.load_img(path, target_size=(224, 224))\n",
        "    img = image.img_to_array(img)\n",
        "    img = vgg16.preprocess_input(img)\n",
        "    batch_of_images.append(img)\n",
        "batch_of_images = np.stack(batch_of_images)\n",
        "\n",
        "predict = model.predict(batch_of_images)\n",
        "results = vgg16.decode_predictions(predict)\n",
        "pprint(results)"
      ]
    }
  ],
  "metadata": {
    "colab": {
      "collapsed_sections": [],
      "name": "ImageRecognition.ipynb",
      "provenance": []
    },
    "kernelspec": {
      "display_name": "Python 3",
      "name": "python3"
    },
    "language_info": {
      "name": "python"
    }
  },
  "nbformat": 4,
  "nbformat_minor": 0
}
